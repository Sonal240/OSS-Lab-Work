{
 "cells": [
  {
   "cell_type": "code",
   "execution_count": 1,
   "metadata": {},
   "outputs": [],
   "source": [
    "import numpy as np"
   ]
  },
  {
   "cell_type": "code",
   "execution_count": 19,
   "metadata": {},
   "outputs": [
    {
     "name": "stdout",
     "output_type": "stream",
     "text": [
      "Enter size of list:5\n",
      "Enter element:1\n",
      "Enter element:2\n",
      "Enter element:3\n",
      "Enter element:1\n",
      "Enter element:1\n",
      "[1 2 3]\n",
      "[3 1 1]\n"
     ]
    }
   ],
   "source": [
    "listNums=[]\n",
    "userSize=int(input(\"Enter size of list:\"))\n",
    "for i in range(userSize):\n",
    "    userEle=int(input(\"Enter element:\"))\n",
    "    listNums.append(userEle)\n",
    "arr= np.array(listNums)\n",
    "uniqueEle,frequency= np.unique(arr,return_counts= True)\n",
    "print(uniqueEle)\n",
    "print(frequency)"
   ]
  },
  {
   "cell_type": "code",
   "execution_count": 21,
   "metadata": {},
   "outputs": [
    {
     "name": "stdout",
     "output_type": "stream",
     "text": [
      "Enter size of list:5\n",
      "1\n",
      "1\n",
      "0\n",
      "1\n",
      "0\n",
      "[1 1 1 0 0]\n"
     ]
    }
   ],
   "source": [
    "binaryList=[]\n",
    "size=int(input(\"Enter size of list:\"))\n",
    "for i in range(size):\n",
    "    ele=int(input(\"\"))\n",
    "    binaryList.append(ele)\n",
    "arr=np.array(binaryList)\n",
    "arr=np.sort(arr)\n",
    "arr=arr[::-1]\n",
    "print(arr)"
   ]
  },
  {
   "cell_type": "code",
   "execution_count": 22,
   "metadata": {},
   "outputs": [
    {
     "name": "stdout",
     "output_type": "stream",
     "text": [
      "Enter desired n:4\n",
      "Enter String:Hello World\n",
      "Hell World\n"
     ]
    }
   ],
   "source": [
    "def remove_char(str, n):\n",
    "      first_part = str[:n] \n",
    "      last_part = str[n+1:]\n",
    "      return first_part + last_part\n",
    "userChoice=int(input(\"Enter desired n:\"))\n",
    "userStr=input(\"Enter String:\")\n",
    "print(remove_char(userStr,userChoice))"
   ]
  },
  {
   "cell_type": "code",
   "execution_count": 25,
   "metadata": {},
   "outputs": [
    {
     "name": "stdout",
     "output_type": "stream",
     "text": [
      "Enter size of list1:5\n",
      "Enter element:1\n",
      "Enter element:2\n",
      "Enter element:3\n",
      "Enter element:4\n",
      "Enter element:5\n",
      "Enter size of list2:5\n",
      "Enter element:6\n",
      "Enter element:7\n",
      "Enter element:3\n",
      "Enter element:2\n",
      "Enter element:1\n",
      "[ True  True  True False False]\n"
     ]
    }
   ],
   "source": [
    "listNums1=[]\n",
    "userSize1=int(input(\"Enter size of list1:\"))\n",
    "for i in range(userSize1):\n",
    "    userEle1=int(input(\"Enter element:\"))\n",
    "    listNums1.append(userEle1)\n",
    "arr1= np.array(listNums1)\n",
    "\n",
    "listNums2=[]\n",
    "userSize2=int(input(\"Enter size of list2:\"))\n",
    "for i in range(userSize2):\n",
    "    userEle2=int(input(\"Enter element:\"))\n",
    "    listNums2.append(userEle2)\n",
    "arr2= np.array(listNums2)\n",
    "   \n",
    "print (np.in1d(arr1, arr2))\n"
   ]
  },
  {
   "cell_type": "code",
   "execution_count": 26,
   "metadata": {},
   "outputs": [
    {
     "name": "stdout",
     "output_type": "stream",
     "text": [
      "Enter size of list1:5\n",
      "Enter element:3\n",
      "Enter element:4\n",
      "Enter element:2\n",
      "Enter element:5\n",
      "Enter element:1\n",
      "Enter size of list2:5\n",
      "Enter element:6\n",
      "Enter element:5\n",
      "Enter element:7\n",
      "Enter element:3\n",
      "Enter element:8\n",
      "[1 2 4 6 7 8]\n"
     ]
    }
   ],
   "source": [
    "listNums3=[]\n",
    "userSize3=int(input(\"Enter size of list1:\"))\n",
    "for i in range(userSize3):\n",
    "    userEle3=int(input(\"Enter element:\"))\n",
    "    listNums3.append(userEle3)\n",
    "arr1= np.array(listNums3)\n",
    "\n",
    "listNums4=[]\n",
    "userSize4=int(input(\"Enter size of list2:\"))\n",
    "for i in range(userSize4):\n",
    "    userEle4=int(input(\"Enter element:\"))\n",
    "    listNums4.append(userEle4)\n",
    "arr2= np.array(listNums4)\n",
    "   \n",
    "print (np.setxor1d(arr1, arr2))\n"
   ]
  },
  {
   "cell_type": "code",
   "execution_count": null,
   "metadata": {},
   "outputs": [],
   "source": []
  }
 ],
 "metadata": {
  "kernelspec": {
   "display_name": "Python 3",
   "language": "python",
   "name": "python3"
  },
  "language_info": {
   "codemirror_mode": {
    "name": "ipython",
    "version": 3
   },
   "file_extension": ".py",
   "mimetype": "text/x-python",
   "name": "python",
   "nbconvert_exporter": "python",
   "pygments_lexer": "ipython3",
   "version": "3.8.5"
  }
 },
 "nbformat": 4,
 "nbformat_minor": 4
}
