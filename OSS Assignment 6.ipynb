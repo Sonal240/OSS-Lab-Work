{
 "cells": [
  {
   "cell_type": "code",
   "execution_count": 1,
   "metadata": {},
   "outputs": [],
   "source": [
    "import scipy as sp\n",
    "import io\n",
    "import numpy as np"
   ]
  },
  {
   "cell_type": "code",
   "execution_count": 14,
   "metadata": {},
   "outputs": [
    {
     "name": "stdout",
     "output_type": "stream",
     "text": [
      "[[1. 1. 1. 1.]\n",
      " [1. 1. 1. 1.]\n",
      " [1. 1. 1. 1.]\n",
      " [1. 1. 1. 1.]]\n",
      "[1. 1. 1. 1.][1. 1. 1. 1.][1. 1. 1. 1.][1. 1. 1. 1.]\n"
     ]
    }
   ],
   "source": [
    "matrix4D= np.ones((4,4))\n",
    "print(matrix4D)\n",
    "\n",
    "fileObj=open(\"test.txt\",\"w+\")\n",
    "\n",
    "for i in matrix4D:\n",
    "    fileObj.write(str(i));\n",
    "    \n",
    "fileReadObj=open(\"test.txt\",\"r\")\n",
    "if fileReadObj.mode == \"r\":\n",
    "    contents=fileReadObj.read()\n",
    "    print(contents)\n",
    "   "
   ]
  },
  {
   "cell_type": "code",
   "execution_count": 15,
   "metadata": {},
   "outputs": [
    {
     "name": "stdout",
     "output_type": "stream",
     "text": [
      "The cube roots are :\n",
      "[3.         4.         9.62260299]\n"
     ]
    }
   ],
   "source": [
    "from scipy.special import cbrt\n",
    "my_cb = cbrt([27,64,891])\n",
    "print(\"The cube roots are :\")\n",
    "print(my_cb)"
   ]
  },
  {
   "cell_type": "code",
   "execution_count": 24,
   "metadata": {},
   "outputs": [
    {
     "name": "stdout",
     "output_type": "stream",
     "text": [
      "-7.0\n",
      "[[-0.28571429  0.71428571]\n",
      " [ 0.42857143 -0.57142857]]\n"
     ]
    }
   ],
   "source": [
    "matrix2D1= np.array([[4,5],[3,2]])\n",
    "matrix2D2= np.array([[4,5],[3,2]])\n",
    "\n",
    "determinant=sp.linalg.det(matrix2D1)\n",
    "print(determinant)\n",
    "\n",
    "inverseMat= sp.linalg.inv(matrix2D2)\n",
    "print(inverseMat)"
   ]
  },
  {
   "cell_type": "code",
   "execution_count": 25,
   "metadata": {},
   "outputs": [
    {
     "name": "stdout",
     "output_type": "stream",
     "text": [
      "(array([-2.08276253, 10.08276253]), array([[ 0.6463749 , -0.76301998],\n",
      "       [-0.76301998, -0.6463749 ]]))\n"
     ]
    }
   ],
   "source": [
    "matrix2D3= np.array([[5,4],[6,3]])\n",
    "eigenVal=sp.linalg.eigh(matrix2D3)\n",
    "print(eigenVal)"
   ]
  },
  {
   "cell_type": "code",
   "execution_count": 29,
   "metadata": {},
   "outputs": [
    {
     "name": "stdout",
     "output_type": "stream",
     "text": [
      "  (0, 5)\t1\n",
      "  (0, 6)\t1\n",
      "  (0, 8)\t2\n",
      "[1 1 2]\n",
      "3\n",
      "  (0, 5)\t1\n",
      "  (0, 6)\t1\n",
      "  (0, 8)\t2\n"
     ]
    }
   ],
   "source": [
    "from scipy.sparse import csr_matrix\n",
    "arr = np.array([0, 0, 0, 0, 0, 1, 1, 0, 2])\n",
    "\n",
    "print(csr_matrix(arr))\n",
    "print(csr_matrix(arr).data)\n",
    "print(csr_matrix(arr).count_nonzero())\n",
    "\n",
    "mat = csr_matrix(arr)\n",
    "mat.eliminate_zeros()\n",
    "print(mat)"
   ]
  },
  {
   "cell_type": "code",
   "execution_count": null,
   "metadata": {},
   "outputs": [],
   "source": []
  }
 ],
 "metadata": {
  "kernelspec": {
   "display_name": "Python 3",
   "language": "python",
   "name": "python3"
  },
  "language_info": {
   "codemirror_mode": {
    "name": "ipython",
    "version": 3
   },
   "file_extension": ".py",
   "mimetype": "text/x-python",
   "name": "python",
   "nbconvert_exporter": "python",
   "pygments_lexer": "ipython3",
   "version": "3.8.5"
  }
 },
 "nbformat": 4,
 "nbformat_minor": 4
}
