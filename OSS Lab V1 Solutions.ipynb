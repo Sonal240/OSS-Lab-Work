{
 "cells": [
  {
   "cell_type": "code",
   "execution_count": 3,
   "metadata": {},
   "outputs": [
    {
     "name": "stdout",
     "output_type": "stream",
     "text": [
      "Enter string:aecffni\n",
      "False returned\n"
     ]
    }
   ],
   "source": [
    "#Write a program to print true if given string consists of unique chars and sorted in increasing order false otherwise\n",
    "\n",
    "def checkUnique(userStr):\n",
    "    charFreq={}\n",
    "\n",
    "    for eachChar in userStr:\n",
    "        if eachChar in charFreq.keys():\n",
    "            charFreq[eachChar]+=1\n",
    "        else:\n",
    "            charFreq[eachChar]=1\n",
    "\n",
    "    dupChar=[]\n",
    "    for char in charFreq.keys():\n",
    "        if charFreq[char]>=2:\n",
    "            dupChar.append(char)\n",
    "    if len(dupChar)!=0:\n",
    "        return False\n",
    " \n",
    "    return True\n",
    "\n",
    "userStr=input(\"Enter string:\")\n",
    "uniqueRes=checkUnique(userStr)\n",
    "if uniqueRes==False:\n",
    "    print(\"False returned\")\n",
    "else:\n",
    "    res = ''.join(sorted(userStr))\n",
    "    if userStr==res:\n",
    "        print(\"All conditions true\")"
   ]
  },
  {
   "cell_type": "code",
   "execution_count": 6,
   "metadata": {},
   "outputs": [
    {
     "name": "stdout",
     "output_type": "stream",
     "text": [
      "Enter size of 1st list4\n",
      "Enter element for list:Python\n",
      "Enter element for list:Java\n",
      "Enter element for list:C\n",
      "Enter element for list:Cpp\n",
      "Enter size of 1st list4\n",
      "Enter element for list:Fortan\n",
      "Enter element for list:C\n",
      "Enter element for list:Cpp\n",
      "Enter element for list:Java\n",
      "[False  True  True  True]\n"
     ]
    }
   ],
   "source": [
    "import numpy as np\n",
    "list1=[]\n",
    "list2=[]\n",
    "size1=int(input(\"Enter size of 1st list\"))\n",
    "for i in range(size1):\n",
    "    ele1=input(\"Enter element for list:\")\n",
    "    list1.append(ele1)\n",
    "res1=np.array(list1)\n",
    "\n",
    "size2=int(input(\"Enter size of 1st list\"))\n",
    "for i in range(size2):\n",
    "    ele2=input(\"Enter element for list:\")\n",
    "    list2.append(ele2)\n",
    "res2=np.array(list2)\n",
    "\n",
    "print(np.in1d(res1,res2))\n"
   ]
  },
  {
   "cell_type": "code",
   "execution_count": null,
   "metadata": {},
   "outputs": [],
   "source": []
  }
 ],
 "metadata": {
  "kernelspec": {
   "display_name": "Python 3",
   "language": "python",
   "name": "python3"
  },
  "language_info": {
   "codemirror_mode": {
    "name": "ipython",
    "version": 3
   },
   "file_extension": ".py",
   "mimetype": "text/x-python",
   "name": "python",
   "nbconvert_exporter": "python",
   "pygments_lexer": "ipython3",
   "version": "3.8.5"
  }
 },
 "nbformat": 4,
 "nbformat_minor": 4
}
