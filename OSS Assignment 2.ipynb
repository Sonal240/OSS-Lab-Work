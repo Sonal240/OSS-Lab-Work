{
 "cells": [
  {
   "cell_type": "code",
   "execution_count": 1,
   "metadata": {},
   "outputs": [
    {
     "name": "stdout",
     "output_type": "stream",
     "text": [
      "Hello World\n",
      "Hello World\n",
      "Hello World\n",
      "Hello World\n"
     ]
    }
   ],
   "source": [
    "#Script to print Hello World\n",
    "for i in range(4):\n",
    "    print(\"Hello World\")"
   ]
  },
  {
   "cell_type": "code",
   "execution_count": 2,
   "metadata": {},
   "outputs": [
    {
     "name": "stdout",
     "output_type": "stream",
     "text": [
      "Hello Simran\n"
     ]
    }
   ],
   "source": [
    "# Script to print string\n",
    "stringVar=\"Hello Simran\"\n",
    "print(stringVar)"
   ]
  },
  {
   "cell_type": "code",
   "execution_count": 3,
   "metadata": {},
   "outputs": [
    {
     "name": "stdout",
     "output_type": "stream",
     "text": [
      "[1, 2, 3, 4, 5, 7]\n"
     ]
    }
   ],
   "source": [
    "# Script to find duplicates in a list\n",
    "def duplicates( randomList ):\n",
    "    l1=[]\n",
    "    for i in randomList:\n",
    "        if i not in l1:\n",
    "            l1.append(i)\n",
    "    return l1;\n",
    "output=duplicates([1,1,2,3,3,4,4,5,7,7])\n",
    "print(output)    "
   ]
  },
  {
   "cell_type": "code",
   "execution_count": 5,
   "metadata": {},
   "outputs": [
    {
     "name": "stdout",
     "output_type": "stream",
     "text": [
      "[[1, 3, 2], [2, 9, 7], [2, 4]]\n"
     ]
    }
   ],
   "source": [
    "# Script to split list to groups of given size\n",
    "def group(x,l):\n",
    "        gl=[]\n",
    "        g=[]\n",
    "        i=0\n",
    "        while i<len(x):\n",
    "                if(len(gl)<l):\n",
    "                        gl.append(x[i])\n",
    "                        i=i+1\n",
    "                else:\n",
    "                        g.append(gl)\n",
    "                        gl=[]\n",
    "        g.append(gl)\n",
    "        return g\n",
    "print(group([1,3,2,2,9,7,2,4],3))"
   ]
  },
  {
   "cell_type": "code",
   "execution_count": 19,
   "metadata": {},
   "outputs": [
    {
     "name": "stdout",
     "output_type": "stream",
     "text": [
      "None\n"
     ]
    }
   ],
   "source": [
    "import os\n",
    "def extsort(list):\n",
    "    \"\"\"a function extsort to sort a list of files based on extension.\n",
    "    >>> extsort(['a.c', 'a.py', 'b.py', 'bar.txt', 'foo.txt', 'x.c'])\n",
    "    ['a.c', 'x.c', 'a.py', 'b.py', 'bar.txt', 'foo.txt']\n",
    "    \"\"\"\n",
    "    return list.sort(key=lambda f: os.path.splitext(f))\n",
    "output=extsort(['a.b','x.py','y.py','c.b','hello.cpp'])\n",
    "print(extsort(['a.b','x.py','y.py','c.b','hello.cpp']))"
   ]
  },
  {
   "cell_type": "code",
   "execution_count": 13,
   "metadata": {},
   "outputs": [
    {
     "name": "stdout",
     "output_type": "stream",
     "text": [
      "['hi', 'ahoy', 'hello', 'igloo', 'namaste']\n"
     ]
    }
   ],
   "source": [
    "def lensort(list):\n",
    "    \"\"\"a function lensort to sort a list of strings based on length.\n",
    "    >>> lensort(['python', 'perl', 'java', 'c', 'haskell', 'lisp', 'ocaml', 'smalltalk', 'ruby'])\n",
    "    ['c', 'perl', 'java', 'lisp', 'ruby', 'ocaml', 'python', 'haskell', 'smalltalk']\n",
    "    \"\"\"\n",
    "    \n",
    "    list.sort(key= lambda x:len(x))\n",
    "    return list\n",
    "print(lensort(['hi','hello','namaste','igloo','ahoy']))"
   ]
  },
  {
   "cell_type": "code",
   "execution_count": 21,
   "metadata": {},
   "outputs": [
    {
     "name": "stdout",
     "output_type": "stream",
     "text": [
      "C:\\Users\\Rajesh kumar\\New Folder\n"
     ]
    }
   ],
   "source": [
    "cd C:\\\\Users\\Rajesh kumar\\New Folder"
   ]
  },
  {
   "cell_type": "code",
   "execution_count": 22,
   "metadata": {},
   "outputs": [
    {
     "data": {
      "text/plain": [
       "'C:\\\\Users\\\\Rajesh kumar\\\\New Folder'"
      ]
     },
     "execution_count": 22,
     "metadata": {},
     "output_type": "execute_result"
    }
   ],
   "source": [
    "pwd"
   ]
  },
  {
   "cell_type": "code",
   "execution_count": 32,
   "metadata": {},
   "outputs": [
    {
     "data": {
      "text/plain": [
       "25"
      ]
     },
     "execution_count": 32,
     "metadata": {},
     "output_type": "execute_result"
    }
   ],
   "source": [
    "f=open('test.txt','w+')\n",
    "f.tell()\n",
    "f.write(\"Hello this is a test file\")\n",
    "f.tell()"
   ]
  },
  {
   "cell_type": "code",
   "execution_count": 43,
   "metadata": {},
   "outputs": [
    {
     "data": {
      "text/plain": [
       "'o this is a test file'"
      ]
     },
     "execution_count": 43,
     "metadata": {},
     "output_type": "execute_result"
    }
   ],
   "source": [
    "f.seek(0)\n",
    "f.read(4)\n",
    "f.readline()"
   ]
  },
  {
   "cell_type": "code",
   "execution_count": 44,
   "metadata": {},
   "outputs": [
    {
     "name": "stdout",
     "output_type": "stream",
     "text": [
      "Number of words in text file:  6\n",
      "Number of lines in text file:  1\n",
      "Number of characters in text file:  20\n",
      "Number of spaces in text file:  5\n"
     ]
    }
   ],
   "source": [
    "# Python implementation to compute number of characters, words, spaces,and lines in a file\n",
    "import os\n",
    "\n",
    "def counter(fname):\n",
    "    num_words = 0\n",
    "    num_lines = 0\n",
    "    num_charc = 0\n",
    "    num_spaces = 0\n",
    "\n",
    "    with open(fname, 'r') as f:\n",
    "        for line in f:\n",
    "            line = line.strip(os.linesep)\n",
    "            wordslist = line.split()\n",
    "            num_lines = num_lines + 1\n",
    "            num_words = num_words + len(wordslist)\n",
    "            num_charc = num_charc + sum(1 for c in line \n",
    "                          if c not in (os.linesep, ' '))\n",
    "            num_spaces = num_spaces + sum(1 for s in line \n",
    "                                if s in (os.linesep, ' '))\n",
    "    print(\"Number of words in text file: \", num_words)\n",
    "    print(\"Number of lines in text file: \", num_lines)\n",
    "    print(\"Number of characters in text file: \", num_charc)\n",
    "    print(\"Number of spaces in text file: \", num_spaces)\n",
    "  \n",
    "if __name__ == '__main__': \n",
    "    fname = 'test.txt'\n",
    "    try: \n",
    "        counter(fname) \n",
    "    except: \n",
    "        print('File not found')"
   ]
  },
  {
   "cell_type": "code",
   "execution_count": 46,
   "metadata": {},
   "outputs": [
    {
     "name": "stdout",
     "output_type": "stream",
     "text": [
      "Hello this is a test file\n"
     ]
    }
   ],
   "source": [
    "def Reverse_Content(fname):\n",
    "      ofile=open(fname,\"r\")\n",
    "      k=ofile.readlines()\n",
    "      t=reversed(k)\n",
    "      for i in t:\n",
    "           print(i.rstrip())\n",
    "if __name__ == '__main__': \n",
    "    fname = 'test.txt'\n",
    "    try: \n",
    "        Reverse_Content(fname) \n",
    "    except: \n",
    "        print('File not found')"
   ]
  },
  {
   "cell_type": "code",
   "execution_count": null,
   "metadata": {},
   "outputs": [],
   "source": []
  }
 ],
 "metadata": {
  "kernelspec": {
   "display_name": "Python 3",
   "language": "python",
   "name": "python3"
  },
  "language_info": {
   "codemirror_mode": {
    "name": "ipython",
    "version": 3
   },
   "file_extension": ".py",
   "mimetype": "text/x-python",
   "name": "python",
   "nbconvert_exporter": "python",
   "pygments_lexer": "ipython3",
   "version": "3.8.5"
  }
 },
 "nbformat": 4,
 "nbformat_minor": 4
}
