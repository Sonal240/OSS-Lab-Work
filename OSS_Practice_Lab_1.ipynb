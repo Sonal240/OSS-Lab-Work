{
  "nbformat": 4,
  "nbformat_minor": 0,
  "metadata": {
    "colab": {
      "name": "OSS Practice Lab 1.ipynb",
      "provenance": []
    },
    "kernelspec": {
      "name": "python3",
      "display_name": "Python 3"
    },
    "language_info": {
      "name": "python"
    }
  },
  "cells": [
    {
      "cell_type": "code",
      "metadata": {
        "colab": {
          "base_uri": "https://localhost:8080/"
        },
        "id": "kZUmPErnNnf7",
        "outputId": "4db5a46e-3391-4308-c00a-ccec06a646d6"
      },
      "source": [
        "!pip install requests\n",
        "!pip install beautifulsoup4"
      ],
      "execution_count": 2,
      "outputs": [
        {
          "output_type": "stream",
          "text": [
            "Requirement already satisfied: requests in /usr/local/lib/python3.7/dist-packages (2.23.0)\n",
            "Requirement already satisfied: urllib3!=1.25.0,!=1.25.1,<1.26,>=1.21.1 in /usr/local/lib/python3.7/dist-packages (from requests) (1.24.3)\n",
            "Requirement already satisfied: certifi>=2017.4.17 in /usr/local/lib/python3.7/dist-packages (from requests) (2020.12.5)\n",
            "Requirement already satisfied: idna<3,>=2.5 in /usr/local/lib/python3.7/dist-packages (from requests) (2.10)\n",
            "Requirement already satisfied: chardet<4,>=3.0.2 in /usr/local/lib/python3.7/dist-packages (from requests) (3.0.4)\n",
            "Requirement already satisfied: beautifulsoup4 in /usr/local/lib/python3.7/dist-packages (4.6.3)\n"
          ],
          "name": "stdout"
        }
      ]
    },
    {
      "cell_type": "code",
      "metadata": {
        "id": "d1YBOcQjOA_6"
      },
      "source": [
        "from bs4 import BeautifulSoup\n",
        "soup = BeautifulSoup(\"<html><p>This is <b>invalid HTML</p></html>\", \"html.parser\")"
      ],
      "execution_count": 3,
      "outputs": []
    },
    {
      "cell_type": "code",
      "metadata": {
        "colab": {
          "base_uri": "https://localhost:8080/"
        },
        "id": "TWAHSJzAONhi",
        "outputId": "18ccd11e-400d-4852-b8a1-d7aa1de20707"
      },
      "source": [
        "from bs4 import BeautifulSoup \n",
        "import requests\n",
        "url = input(\"Enter a website to extract the URL's from: \") \n",
        "r = requests.get(\"http://\" +url)\n",
        "data = r.text\n",
        "soup = BeautifulSoup(data) \n",
        "for link in soup.find_all('a'): \n",
        "    print(link.get('href'))\n"
      ],
      "execution_count": 11,
      "outputs": [
        {
          "output_type": "stream",
          "text": [
            "Enter a website to extract the URL's from: docs.google.com/\n",
            "https://accounts.google.com/signin/usernamerecovery?continue=https%3A%2F%2Fdocs.google.com%2F&hl=en\n",
            "https://accounts.google.com/AccountChooser?continue=https%3A%2F%2Fdocs.google.com%2F&followup=https%3A%2F%2Fdocs.google.com%2F&emr=1\n",
            "https://accounts.google.com/SignUp?continue=https%3A%2F%2Fdocs.google.com%2F\n",
            "https://www.google.com/intl/en/about\n",
            "https://accounts.google.com/TOS?loc=US&hl=en&privacy=true\n",
            "https://accounts.google.com/TOS?loc=US&hl=en\n",
            "http://www.google.com/support/accounts?hl=en\n"
          ],
          "name": "stdout"
        }
      ]
    },
    {
      "cell_type": "code",
      "metadata": {
        "colab": {
          "base_uri": "https://localhost:8080/"
        },
        "id": "nP67Qj6uO_gs",
        "outputId": "b962bbaf-e0af-4c61-b29a-410adef88e7f"
      },
      "source": [
        "import requests\n",
        "from bs4 import BeautifulSoup\n",
        "req = requests.get('https://en.wikipedia.org/wiki/Python_(programming_language)') \n",
        "soup = BeautifulSoup(req.text, \"lxml\")\n",
        "print(soup.title) \n",
        "print(soup.title.name) \n",
        "print(soup.title.string)"
      ],
      "execution_count": 12,
      "outputs": [
        {
          "output_type": "stream",
          "text": [
            "<title>Python (programming language) - Wikipedia</title>\n",
            "title\n",
            "Python (programming language) - Wikipedia\n"
          ],
          "name": "stdout"
        }
      ]
    },
    {
      "cell_type": "code",
      "metadata": {
        "colab": {
          "base_uri": "https://localhost:8080/"
        },
        "id": "BgxMx1Q6PJ_q",
        "outputId": "fd31b125-5ee1-46f3-b600-44bd6b47bb0b"
      },
      "source": [
        "print(soup.h1) \n",
        "print(soup.h1.string)"
      ],
      "execution_count": 13,
      "outputs": [
        {
          "output_type": "stream",
          "text": [
            "<h1 class=\"firstHeading\" id=\"firstHeading\">Python (programming language)</h1>\n",
            "Python (programming language)\n"
          ],
          "name": "stdout"
        }
      ]
    },
    {
      "cell_type": "code",
      "metadata": {
        "id": "YzLpG7JlPQx0"
      },
      "source": [
        "soup.h1['class'] = 'firstHeading, mainHeading' \n",
        "soup.h1.string.replace_with(\"Python - Programming Language\") \n",
        "del soup.h1['lang']\n",
        "del soup.h1['id']"
      ],
      "execution_count": 15,
      "outputs": []
    }
  ]
}